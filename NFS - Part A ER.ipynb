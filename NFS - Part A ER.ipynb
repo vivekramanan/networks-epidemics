{
 "cells": [
  {
   "cell_type": "code",
   "execution_count": 2,
   "metadata": {
    "collapsed": false
   },
   "outputs": [
    {
     "name": "stdout",
     "output_type": "stream",
     "text": [
      "100094\n"
     ]
    }
   ],
   "source": [
    "import matplotlib.pyplot as plt\n",
    "%matplotlib inline\n",
    "\n",
    "import networkx\n",
    "network = networkx.generators.erdos_renyi_graph(1000, 0.1, directed=True)\n",
    "print network.number_of_edges()"
   ]
  },
  {
   "cell_type": "code",
   "execution_count": 18,
   "metadata": {
    "collapsed": false
   },
   "outputs": [
    {
     "data": {
      "text/plain": [
       "<function matplotlib.pyplot.show>"
      ]
     },
     "execution_count": 18,
     "metadata": {},
     "output_type": "execute_result"
    },
    {
     "data": {
      "image/png": "[encoded data removed]",
      "text/plain": [
       "<matplotlib.figure.Figure at 0x110576dd0>"
      ]
     },
     "metadata": {},
     "output_type": "display_data"
    }
   ],
   "source": [
    "# probability\n",
    "p = 0.0001\n",
    "# above 0.0001 spreads\n",
    "# under doesn't\n",
    "p2 = 0.001\n",
    "d = 0.01\n",
    "# time step\n",
    "# keep track of state of every node\n",
    "import random\n",
    "\n",
    "INFECTED = 1\n",
    "NOT_INFECTED = 0\n",
    "# initialization\n",
    "for node in network.nodes():\n",
    "    network.node[node]['infected'] = NOT_INFECTED\n",
    "# start with fraction of nodes being infected\n",
    "amtInfected = int(d * network.number_of_nodes())\n",
    "for i in range(amtInfected):\n",
    "    x = random.choice(network.nodes())\n",
    "    network.node[x]['infected'] = INFECTED\n",
    "\n",
    "# tn each time step: determine state transition based on prev state\n",
    "def update_network(network, p, num_infections):\n",
    "    for node in network.nodes():\n",
    "        if network.node[node]['infected'] is INFECTED:\n",
    "            for n in network.neighbors(node):\n",
    "                # and infect them w prob p\n",
    "                if network.node[n]['infected'] is NOT_INFECTED:\n",
    "                    if random.random() < p:\n",
    "                    # infect, check by if p is 1.0, it is always true\n",
    "                        network.node[n]['infected'] = INFECTED\n",
    "                        num_infections += 1\n",
    "            if random.random() < p2:\n",
    "                network.node[node]['infected'] = NOT_INFECTED\n",
    "                num_infections -= 1\n",
    "    return num_infections\n",
    "\n",
    "###############\n",
    "\n",
    "num_infections = 1\n",
    "result = []\n",
    "\n",
    "for i in range(1000):\n",
    "    num_infections = update_network(network, p, num_infections)\n",
    "    density = float(num_infections) / float(network.number_of_nodes())\n",
    "    result.append(density)\n",
    "    \n",
    "len(result)\n",
    "\n",
    "import matplotlib.pyplot as plt\n",
    "%matplotlib inline\n",
    "plt.plot(result)\n",
    "plt.yscale('log')\n",
    "plt.xscale('log')\n",
    "plt.axis([1, 1000, .00001, .01])\n",
    "plt.xlabel('t')\n",
    "plt.ylabel('p(t)')\n",
    "plt.title('Spreading on Erdos-Renyi Graphs with log-log scale')\n",
    "plt.show"
   ]
  },
  {
   "cell_type": "code",
   "execution_count": null,
   "metadata": {
    "collapsed": false
   },
   "outputs": [],
   "source": []
  },
  {
   "cell_type": "code",
   "execution_count": 30,
   "metadata": {
    "collapsed": true
   },
   "outputs": [],
   "source": [
    "survival = []\n",
    "for i in range(len(result)):\n",
    "    survival.append(1 - result[i])\n",
    "#survival = survival[:200]"
   ]
  },
  {
   "cell_type": "code",
   "execution_count": 31,
   "metadata": {
    "collapsed": false
   },
   "outputs": [
    {
     "data": {
      "text/plain": [
       "<function matplotlib.pyplot.show>"
      ]
     },
     "execution_count": 31,
     "metadata": {},
     "output_type": "execute_result"
    },
    {
     "data": {
      "image/png": "[encoded data removed]",
      "text/plain": [
       "<matplotlib.figure.Figure at 0x1164bf290>"
      ]
     },
     "metadata": {},
     "output_type": "display_data"
    }
   ],
   "source": [
    "plt.plot(survival)\n",
    "plt.yscale('log')\n",
    "plt.xlabel('t')\n",
    "plt.ylabel('p(t)')\n",
    "plt.title('Survival Rates on Erdos-Renyi Graphs with log-log scale')\n",
    "plt.show"
   ]
  },
  {
   "cell_type": "code",
   "execution_count": null,
   "metadata": {
    "collapsed": true
   },
   "outputs": [],
   "source": []
  }
 ],
 "metadata": {
  "kernelspec": {
   "display_name": "Python 2",
   "language": "python",
   "name": "python2"
  },
  "language_info": {
   "codemirror_mode": {
    "name": "ipython",
    "version": 2
   },
   "file_extension": ".py",
   "mimetype": "text/x-python",
   "name": "python",
   "nbconvert_exporter": "python",
   "pygments_lexer": "ipython2",
   "version": "2.7.13"
  }
 },
 "nbformat": 4,
 "nbformat_minor": 2
}
