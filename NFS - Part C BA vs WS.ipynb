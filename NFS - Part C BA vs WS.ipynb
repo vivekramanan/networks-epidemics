{
 "cells": [
  {
   "cell_type": "code",
   "execution_count": 5,
   "metadata": {
    "collapsed": false
   },
   "outputs": [
    {
     "name": "stdout",
     "output_type": "stream",
     "text": [
      "4975\n",
      "5000\n"
     ]
    }
   ],
   "source": [
    "import matplotlib.pyplot as plt\n",
    "%matplotlib inline\n",
    "\n",
    "import networkx\n",
    "network = networkx.generators.barabasi_albert_graph(1000, 5)\n",
    "network2 = networkx.generators.watts_strogatz_graph(1000, 10, 0.1)\n",
    "print network.number_of_edges()\n",
    "print network2.number_of_edges()"
   ]
  },
  {
   "cell_type": "code",
   "execution_count": 6,
   "metadata": {
    "collapsed": false
   },
   "outputs": [],
   "source": [
    "import random\n",
    "INFECTED = 1\n",
    "NOT_INFECTED = 0\n",
    "\n",
    "# initialization\n",
    "def initialization(network, d):\n",
    "    for node in network.nodes():\n",
    "        network.node[node]['infected'] = NOT_INFECTED\n",
    "# start with fraction of nodes being infected\n",
    "    amtInfected = int(d * network.number_of_nodes())\n",
    "    for i in range(amtInfected):\n",
    "        x = random.choice(network.nodes())\n",
    "        network.node[x]['infected'] = INFECTED\n",
    "    return amtInfected\n",
    "\n",
    "# tn each time step: determine state transition based on prev state\n",
    "def update_network(network, p, p2, num_infections):\n",
    "    for node in network.nodes():\n",
    "        if network.node[node]['infected'] is INFECTED:\n",
    "            for n in network.neighbors(node):\n",
    "                # and infect them w prob p\n",
    "                if network.node[n]['infected'] is NOT_INFECTED:\n",
    "                    x = random.random()\n",
    "                    if x < p:\n",
    "                    # infect, check by if p is 1.0, it is always true\n",
    "                        network.node[n]['infected'] = INFECTED\n",
    "                        num_infections += 1\n",
    "            y = random.random()\n",
    "            if y < p2:\n",
    "                network.node[node]['infected'] = NOT_INFECTED\n",
    "                num_infections -= 1\n",
    "    return num_infections\n"
   ]
  },
  {
   "cell_type": "code",
   "execution_count": 7,
   "metadata": {
    "collapsed": true
   },
   "outputs": [],
   "source": [
    "ps = [0.0, .01, .02, .03, .04, 0.05, 0.1, 0.15, 0.2, 0.25, 0.3, 0.35, 0.4, .45, .5, .55, .6]"
   ]
  },
  {
   "cell_type": "code",
   "execution_count": 8,
   "metadata": {
    "collapsed": false
   },
   "outputs": [
    {
     "data": {
      "text/plain": [
       "17"
      ]
     },
     "execution_count": 8,
     "metadata": {},
     "output_type": "execute_result"
    }
   ],
   "source": [
    "#BA\n",
    "d = 0.001\n",
    "\n",
    "p2 = .1\n",
    "\n",
    "amtInf = initialization(network, d)\n",
    "total = []\n",
    "\n",
    "for j in range(len(ps)):\n",
    "    networkcopy = network.copy()\n",
    "    p = ps[j]\n",
    "    num_infections = 1\n",
    "    for i in range(1000):\n",
    "        num_infections = update_network(networkcopy, p, p2, num_infections)\n",
    "    density = float(num_infections) / float(network.number_of_nodes())\n",
    "    total.append(density)\n",
    "    \n",
    "len(total)"
   ]
  },
  {
   "cell_type": "code",
   "execution_count": 9,
   "metadata": {
    "collapsed": false
   },
   "outputs": [
    {
     "data": {
      "text/plain": [
       "17"
      ]
     },
     "execution_count": 9,
     "metadata": {},
     "output_type": "execute_result"
    }
   ],
   "source": [
    "#WS\n",
    "d = 0.001\n",
    "\n",
    "p2 = .1\n",
    "\n",
    "amtInf = initialization(network2, d)\n",
    "total2 = []\n",
    "num_infections2 = 1\n",
    "\n",
    "for j in range(len(ps)):\n",
    "    network2copy = network2.copy()\n",
    "    p = ps[j]\n",
    "    num_infections2 = 1\n",
    "    for i in range(1000):\n",
    "        num_infections2 = update_network(network2copy, p, p2, num_infections2)\n",
    "    density2 = float(num_infections2) / float(network2.number_of_nodes())\n",
    "    total2.append(density2)\n",
    "    \n",
    "len(total2)"
   ]
  },
  {
   "cell_type": "code",
   "execution_count": 10,
   "metadata": {
    "collapsed": false
   },
   "outputs": [
    {
     "data": {
      "text/plain": [
       "<function matplotlib.pyplot.show>"
      ]
     },
     "execution_count": 10,
     "metadata": {},
     "output_type": "execute_result"
    },
    {
     "data": {
      "image/png": "[encoded data removed]",
      "text/plain": [
       "<matplotlib.figure.Figure at 0x1113e7bd0>"
      ]
     },
     "metadata": {},
     "output_type": "display_data"
    }
   ],
   "source": [
    "import matplotlib.pyplot as plt\n",
    "%matplotlib inline\n",
    "plt.plot(ps, total, '-o', label='BA')\n",
    "plt.plot(ps, total2, '-x', label='WS')\n",
    "plt.xlabel('Spreading Rate')\n",
    "plt.ylabel('p(t)')\n",
    "plt.legend(['ba', 'ws'])\n",
    "plt.title('Infected Node Densities of BA and WS Networks')\n",
    "plt.show"
   ]
  },
  {
   "cell_type": "code",
   "execution_count": null,
   "metadata": {
    "collapsed": true
   },
   "outputs": [],
   "source": []
  },
  {
   "cell_type": "code",
   "execution_count": null,
   "metadata": {
    "collapsed": true
   },
   "outputs": [],
   "source": []
  }
 ],
 "metadata": {
  "kernelspec": {
   "display_name": "Python 2",
   "language": "python",
   "name": "python2"
  },
  "language_info": {
   "codemirror_mode": {
    "name": "ipython",
    "version": 2
   },
   "file_extension": ".py",
   "mimetype": "text/x-python",
   "name": "python",
   "nbconvert_exporter": "python",
   "pygments_lexer": "ipython2",
   "version": "2.7.13"
  }
 },
 "nbformat": 4,
 "nbformat_minor": 2
}
