{
 "cells": [
  {
   "cell_type": "code",
   "execution_count": 1,
   "metadata": {
    "collapsed": false
   },
   "outputs": [],
   "source": [
    "import numpy as np\n",
    "import matplotlib.pyplot as plt\n",
    "%matplotlib inline\n",
    "import networkx\n",
    "import random\n",
    "import scipy"
   ]
  },
  {
   "cell_type": "code",
   "execution_count": 49,
   "metadata": {
    "collapsed": false
   },
   "outputs": [
    {
     "data": {
      "text/plain": [
       "[3.860908031420814,\n",
       " 5.711503049380682,\n",
       " 1.3169927493178712,\n",
       " 1.7570032811382563,\n",
       " 4.1231983086633655,\n",
       " 1.1333465737330866,\n",
       " 1.0011825833880204,\n",
       " 2.065667396528466,\n",
       " 2.401372199146616,\n",
       " 1.1196397349858012,\n",
       " 1.264425718822811,\n",
       " 1.0107937110628507,\n",
       " 1.1721292747459962,\n",
       " 2.236221281115501,\n",
       " 1.5179048779146738,\n",
       " 18.986267216765427,\n",
       " 2.8208951865886283,\n",
       " 2.62936331071963,\n",
       " 2.5911726998075832,\n",
       " 3.2191252067136866,\n",
       " 4.767850204221666,\n",
       " 1.2944559066238643,\n",
       " 1.1219114058940391,\n",
       " 2.74908871637291,\n",
       " 1.5470316352039555,\n",
       " 1.0920663507858952,\n",
       " 1.339061263267429,\n",
       " 4.206506738457624,\n",
       " 2.036945178900934,\n",
       " 1.0523608298997396,\n",
       " 2.419990529900913,\n",
       " 1.0416002584481052,\n",
       " 4.26953163559901,\n",
       " 1.337586850218881,\n",
       " 2.2491581877422524,\n",
       " 1.242554838781908,\n",
       " 1.4519117381206832,\n",
       " 1.7970809861303505,\n",
       " 1.1219435748963622,\n",
       " 1.0181277895524175,\n",
       " 1.6650725476819217,\n",
       " 3.7868961409185102,\n",
       " 1.4668000454180536,\n",
       " 1.5035044061835976,\n",
       " 1.8306395562068631,\n",
       " 4.93534373826747,\n",
       " 3.7518013465132714,\n",
       " 1.8869819856500234,\n",
       " 1.1549076603895487,\n",
       " 8.23535750636996,\n",
       " 1.2846511066315396,\n",
       " 1.5657663887666502,\n",
       " 1.024154493470534,\n",
       " 1.2039693235553741,\n",
       " 1.4323920315579504,\n",
       " 2.161026372604027,\n",
       " 1.1444501894466927,\n",
       " 1.1664138648180573,\n",
       " 1.631785702599703,\n",
       " 3.4087744289606996,\n",
       " 1.22004485168106,\n",
       " 5.741675736284203,\n",
       " 5.306767142769262,\n",
       " 1.3751397836124677,\n",
       " 1.2882529729085572,\n",
       " 1.1651939267834381,\n",
       " 1.085957473707296,\n",
       " 3.141672487362999,\n",
       " 2.23829575912882,\n",
       " 1.4464586040402974,\n",
       " 2.076196365909053,\n",
       " 1.3693639812300982,\n",
       " 1.380436143045905,\n",
       " 1.6284346430388879,\n",
       " 1.9456789177181477,\n",
       " 1.811130957528625,\n",
       " 2.734742838359681,\n",
       " 1.5896480727722444,\n",
       " 1.0771757762965097,\n",
       " 2.3560124222626153,\n",
       " 1.5101982459350596,\n",
       " 2.618593231804244,\n",
       " 1.116204230401485,\n",
       " 1.179669286577636,\n",
       " 1.0682029604779637,\n",
       " 1.0680101842340382,\n",
       " 1.366081443981229,\n",
       " 1.0233324678879787,\n",
       " 1.0752859739016858,\n",
       " 3.456746763498368,\n",
       " 2.908533782826521,\n",
       " 3.9495820651392775,\n",
       " 5.630255810604891,\n",
       " 10.697542375392528,\n",
       " 1.138932864249843,\n",
       " 1.137924278440469,\n",
       " 1.137955770976953,\n",
       " 1.5130176973475304,\n",
       " 4.86095033259087,\n",
       " 1.139495907124095]"
      ]
     },
     "execution_count": 49,
     "metadata": {},
     "output_type": "execute_result"
    }
   ],
   "source": [
    "while True:\n",
    "    plaw = networkx.utils.powerlaw_sequence(100)\n",
    "    avg = sum(plaw) / float(len(plaw))\n",
    "    if avg < 5:\n",
    "        break\n",
    "plaw"
   ]
  },
  {
   "cell_type": "code",
   "execution_count": 50,
   "metadata": {
    "collapsed": false
   },
   "outputs": [],
   "source": [
    "indist = []\n",
    "for i in range(len(plaw)):\n",
    "    indist.append(int(plaw[i]))"
   ]
  },
  {
   "cell_type": "code",
   "execution_count": 51,
   "metadata": {
    "collapsed": false
   },
   "outputs": [
    {
     "data": {
      "text/plain": [
       "2"
      ]
     },
     "execution_count": 51,
     "metadata": {},
     "output_type": "execute_result"
    }
   ],
   "source": [
    "avg = float(sum(plaw)) / float(len(plaw))\n",
    "int(avg)"
   ]
  },
  {
   "cell_type": "code",
   "execution_count": 52,
   "metadata": {
    "collapsed": false
   },
   "outputs": [],
   "source": [
    "outdist = []\n",
    "for i in range(len(plaw)):\n",
    "    outdist.append(int(avg))"
   ]
  },
  {
   "cell_type": "code",
   "execution_count": 53,
   "metadata": {
    "collapsed": false
   },
   "outputs": [
    {
     "name": "stdout",
     "output_type": "stream",
     "text": [
      "True\n",
      "True\n"
     ]
    }
   ],
   "source": [
    "print networkx.is_valid_degree_sequence(indist)\n",
    "print networkx.is_valid_degree_sequence(outdist)"
   ]
  },
  {
   "cell_type": "code",
   "execution_count": 54,
   "metadata": {
    "collapsed": false
   },
   "outputs": [
    {
     "name": "stdout",
     "output_type": "stream",
     "text": [
      "200\n",
      "200\n"
     ]
    }
   ],
   "source": [
    "print sum(indist)\n",
    "print sum(outdist)"
   ]
  },
  {
   "cell_type": "code",
   "execution_count": 25,
   "metadata": {
    "collapsed": true
   },
   "outputs": [],
   "source": [
    "for i in range(20):\n",
    "    indist[i] += 1"
   ]
  },
  {
   "cell_type": "code",
   "execution_count": 55,
   "metadata": {
    "collapsed": false
   },
   "outputs": [],
   "source": [
    "networkIn = networkx.directed_configuration_model(indist, outdist)\n",
    "networkOut = networkx.directed_configuration_model(outdist, indist)"
   ]
  },
  {
   "cell_type": "code",
   "execution_count": 56,
   "metadata": {
    "collapsed": false
   },
   "outputs": [
    {
     "data": {
      "text/plain": [
       "200"
      ]
     },
     "execution_count": 56,
     "metadata": {},
     "output_type": "execute_result"
    }
   ],
   "source": [
    "networkIn.number_of_edges()"
   ]
  },
  {
   "cell_type": "code",
   "execution_count": 57,
   "metadata": {
    "collapsed": false
   },
   "outputs": [
    {
     "data": {
      "text/plain": [
       "200"
      ]
     },
     "execution_count": 57,
     "metadata": {},
     "output_type": "execute_result"
    }
   ],
   "source": [
    "networkOut.number_of_edges()"
   ]
  },
  {
   "cell_type": "code",
   "execution_count": 58,
   "metadata": {
    "collapsed": true
   },
   "outputs": [],
   "source": [
    "import random\n",
    "INFECTED = 1\n",
    "NOT_INFECTED = 0\n",
    "\n",
    "# initialization\n",
    "def initialization(network, d):\n",
    "    for node in network.nodes():\n",
    "        network.node[node]['infected'] = NOT_INFECTED\n",
    "# start with fraction of nodes being infected\n",
    "    amtInfected = int(d * network.number_of_nodes())\n",
    "    for i in range(amtInfected):\n",
    "        x = random.choice(network.nodes())\n",
    "        network.node[x]['infected'] = INFECTED\n",
    "    return amtInfected\n",
    "\n",
    "# tn each time step: determine state transition based on prev state\n",
    "def update_network(network, p, p2, num_infections):\n",
    "    for node in network.nodes():\n",
    "        if network.node[node]['infected'] is INFECTED:\n",
    "            for n in network.neighbors(node):\n",
    "                # and infect them w prob p\n",
    "                if network.node[n]['infected'] is NOT_INFECTED:\n",
    "                    x = random.random()\n",
    "                    if x < p:\n",
    "                    # infect, check by if p is 1.0, it is always true\n",
    "                        network.node[n]['infected'] = INFECTED\n",
    "                        num_infections += 1\n",
    "            y = random.random()\n",
    "            if y < p2:\n",
    "                network.node[node]['infected'] = NOT_INFECTED\n",
    "                num_infections -= 1\n",
    "    return num_infections"
   ]
  },
  {
   "cell_type": "code",
   "execution_count": 59,
   "metadata": {
    "collapsed": false
   },
   "outputs": [
    {
     "data": {
      "text/plain": [
       "<function matplotlib.pyplot.show>"
      ]
     },
     "execution_count": 59,
     "metadata": {},
     "output_type": "execute_result"
    },
    {
     "data": {
      "image/png": "[encoded data removed]",
      "text/plain": [
       "<matplotlib.figure.Figure at 0x115e6d250>"
      ]
     },
     "metadata": {},
     "output_type": "display_data"
    }
   ],
   "source": [
    "d = 0.01\n",
    "\n",
    "ps = [.05]\n",
    "p2 = .02\n",
    "FINAL = []\n",
    "\n",
    "amtInf = initialization(networkIn, d)\n",
    "total = []\n",
    "\n",
    "for j in range(len(ps)):\n",
    "    networkcopy = networkIn.copy()\n",
    "    p = ps[j]\n",
    "    result = []\n",
    "    num_infections = 1\n",
    "    result.append(float(num_infections) / float(networkIn.number_of_nodes()))\n",
    "    for i in range(1000):\n",
    "        num_infections = update_network(networkcopy, p, p2, num_infections)\n",
    "        density = float(num_infections) / float(networkIn.number_of_nodes())\n",
    "        result.append(density)\n",
    "    total.append(result)\n",
    "    \n",
    "len(total)\n",
    "FINAL.append(total[0])\n",
    "\n",
    "import matplotlib.pyplot as plt\n",
    "%matplotlib inline\n",
    "for i in range(len(total)):\n",
    "    plt.plot(total[i])\n",
    "plt.yscale('log')\n",
    "plt.xscale('log')\n",
    "plt.xlabel('t')\n",
    "plt.ylabel('p(t)')\n",
    "plt.title('Spreading on Network with Scale-Free In deg distribution')\n",
    "plt.legend(ps)\n",
    "plt.show"
   ]
  },
  {
   "cell_type": "code",
   "execution_count": 60,
   "metadata": {
    "collapsed": false
   },
   "outputs": [
    {
     "data": {
      "text/plain": [
       "<function matplotlib.pyplot.show>"
      ]
     },
     "execution_count": 60,
     "metadata": {},
     "output_type": "execute_result"
    },
    {
     "data": {
      "image/png": "[encoded data removed]",
      "text/plain": [
       "<matplotlib.figure.Figure at 0x1158f0c90>"
      ]
     },
     "metadata": {},
     "output_type": "display_data"
    }
   ],
   "source": [
    "d = 0.01\n",
    "\n",
    "ps = [.05]\n",
    "p2 = .02\n",
    "\n",
    "amtInf = initialization(networkOut, d)\n",
    "total = []\n",
    "\n",
    "for j in range(len(ps)):\n",
    "    networkcopy = networkOut.copy()\n",
    "    p = ps[j]\n",
    "    result = []\n",
    "    num_infections = 1\n",
    "    result.append(float(num_infections) / float(networkOut.number_of_nodes()))\n",
    "    for i in range(1000):\n",
    "        num_infections = update_network(networkcopy, p, p2, num_infections)\n",
    "        density = float(num_infections) / float(networkOut.number_of_nodes())\n",
    "        result.append(density)\n",
    "    total.append(result)\n",
    "    \n",
    "len(total)\n",
    "FINAL.append(total[0])\n",
    "\n",
    "import matplotlib.pyplot as plt\n",
    "%matplotlib inline\n",
    "for i in range(len(total)):\n",
    "    plt.plot(total[i])\n",
    "plt.yscale('log')\n",
    "plt.xscale('log')\n",
    "plt.xlabel('t')\n",
    "plt.ylabel('p(t)')\n",
    "plt.title('Spreading on Network with Scale-Free Out deg distribution')\n",
    "plt.legend(ps)\n",
    "plt.show"
   ]
  },
  {
   "cell_type": "code",
   "execution_count": 61,
   "metadata": {
    "collapsed": false
   },
   "outputs": [
    {
     "data": {
      "text/plain": [
       "2"
      ]
     },
     "execution_count": 61,
     "metadata": {},
     "output_type": "execute_result"
    }
   ],
   "source": [
    "len(FINAL)"
   ]
  },
  {
   "cell_type": "code",
   "execution_count": 67,
   "metadata": {
    "collapsed": false
   },
   "outputs": [
    {
     "data": {
      "text/plain": [
       "214"
      ]
     },
     "execution_count": 67,
     "metadata": {},
     "output_type": "execute_result"
    }
   ],
   "source": [
    "sfnetwork = networkx.generators.scale_free_graph(100)\n",
    "sfnetwork.number_of_edges()"
   ]
  },
  {
   "cell_type": "code",
   "execution_count": 70,
   "metadata": {
    "collapsed": false
   },
   "outputs": [
    {
     "data": {
      "text/plain": [
       "<function matplotlib.pyplot.show>"
      ]
     },
     "execution_count": 70,
     "metadata": {},
     "output_type": "execute_result"
    },
    {
     "data": {
      "image/png": "[encoded data removed]",
      "text/plain": [
       "<matplotlib.figure.Figure at 0x1166e2c10>"
      ]
     },
     "metadata": {},
     "output_type": "display_data"
    }
   ],
   "source": [
    "d = 0.01\n",
    "\n",
    "ps = [.05]\n",
    "p2 = 0.01\n",
    "\n",
    "amtInf = initialization(sfnetwork, d)\n",
    "total = []\n",
    "\n",
    "for j in range(len(ps)):\n",
    "    networkcopy = sfnetwork.copy()\n",
    "    p = ps[j]\n",
    "    result = []\n",
    "    num_infections = 1\n",
    "    result.append(float(num_infections) / float(sfnetwork.number_of_nodes()))\n",
    "    for i in range(1000):\n",
    "        num_infections = update_network(networkcopy, p, p2, num_infections)\n",
    "        density = float(num_infections) / float(sfnetwork.number_of_nodes())\n",
    "        result.append(density)\n",
    "    total.append(result)\n",
    "    \n",
    "len(total)\n",
    "if(len(FINAL) == 2):\n",
    "    FINAL.append(total[0])\n",
    "else:\n",
    "    FINAL[2] = total[0]\n",
    "\n",
    "import matplotlib.pyplot as plt\n",
    "%matplotlib inline\n",
    "for i in range(len(total)):\n",
    "    plt.plot(total[i])\n",
    "plt.yscale('log')\n",
    "plt.xscale('log')\n",
    "plt.xlabel('t')\n",
    "plt.ylabel('p(t)')\n",
    "plt.title('Spreading on Network with Scale-Free Total deg distribution')\n",
    "plt.legend(ps)\n",
    "plt.show"
   ]
  },
  {
   "cell_type": "code",
   "execution_count": null,
   "metadata": {
    "collapsed": false
   },
   "outputs": [],
   "source": []
  },
  {
   "cell_type": "code",
   "execution_count": 69,
   "metadata": {
    "collapsed": false
   },
   "outputs": [
    {
     "data": {
      "text/plain": [
       "<matplotlib.text.Text at 0x115c96a90>"
      ]
     },
     "execution_count": 69,
     "metadata": {},
     "output_type": "execute_result"
    },
    {
     "data": {
      "image/png": "[encoded data removed]",
      "text/plain": [
       "<matplotlib.figure.Figure at 0x11662f490>"
      ]
     },
     "metadata": {},
     "output_type": "display_data"
    }
   ],
   "source": [
    "for i in range(len(FINAL)):\n",
    "    plt.plot(FINAL[i])\n",
    "plt.yscale('log')\n",
    "plt.xscale('log')\n",
    "plt.legend([\"SF In\", \"SF Out\", \"SF\"])\n",
    "plt.title(\"Spreading Behaviors of Networks with different Scale-Free degree distributions\")\n",
    "plt.xlabel('t')\n",
    "plt.ylabel('p(t)')\n",
    "# p = 0.05"
   ]
  },
  {
   "cell_type": "code",
   "execution_count": null,
   "metadata": {
    "collapsed": true
   },
   "outputs": [],
   "source": []
  }
 ],
 "metadata": {
  "kernelspec": {
   "display_name": "Python 2",
   "language": "python",
   "name": "python2"
  },
  "language_info": {
   "codemirror_mode": {
    "name": "ipython",
    "version": 2
   },
   "file_extension": ".py",
   "mimetype": "text/x-python",
   "name": "python",
   "nbconvert_exporter": "python",
   "pygments_lexer": "ipython2",
   "version": "2.7.13"
  }
 },
 "nbformat": 4,
 "nbformat_minor": 2
}
